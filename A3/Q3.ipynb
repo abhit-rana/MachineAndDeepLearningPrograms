{
  "nbformat": 4,
  "nbformat_minor": 0,
  "metadata": {
    "colab": {
      "name": "2020421_AbhitRana_A3_Q3",
      "provenance": []
    },
    "kernelspec": {
      "name": "python3",
      "display_name": "Python 3"
    },
    "language_info": {
      "name": "python"
    }
  },
  "cells": [
    {
      "cell_type": "markdown",
      "source": [
        "Q3"
      ],
      "metadata": {
        "id": "mQc01B-pvM8N"
      }
    },
    {
      "cell_type": "markdown",
      "source": [
        "-60,000 training images\n",
        "\n",
        "-10,000 test images\n",
        "\n",
        "-each image 28x28"
      ],
      "metadata": {
        "id": "k_TYQ5VNvSsI"
      }
    },
    {
      "cell_type": "code",
      "execution_count": null,
      "metadata": {
        "id": "m2OAC9lxulSD"
      },
      "outputs": [],
      "source": [
        "import numpy as np\n",
        "import matplotlib.pyplot as plt"
      ]
    },
    {
      "cell_type": "code",
      "source": [
        "from sklearn.decomposition import PCA\n",
        "import os,codecs,numpy\n",
        "import matplotlib"
      ],
      "metadata": {
        "id": "oWphrD5Du0Qv"
      },
      "execution_count": null,
      "outputs": []
    },
    {
      "cell_type": "code",
      "source": [
        "import scipy.linalg as la\n",
        "import math"
      ],
      "metadata": {
        "id": "UiaSza0z1ZNO"
      },
      "execution_count": null,
      "outputs": []
    },
    {
      "cell_type": "code",
      "source": [
        "from google.colab import drive\n",
        "drive.mount('/content/drive')"
      ],
      "metadata": {
        "colab": {
          "base_uri": "https://localhost:8080/"
        },
        "id": "UXWMveNRvrpQ",
        "outputId": "26c3e2f1-1a07-4882-bf29-cf124adb4c22"
      },
      "execution_count": null,
      "outputs": [
        {
          "output_type": "stream",
          "name": "stdout",
          "text": [
            "Mounted at /content/drive\n"
          ]
        }
      ]
    },
    {
      "cell_type": "code",
      "source": [
        "# PROVIDE YOUR DIRECTORY WITH THE EXTRACTED FILES HERE\n",
        "datapath = '/content/drive/MyDrive/Colab Notebooks/SML/SML_A3/fmnist/'\n",
        "\n",
        "files = os.listdir(datapath)\n",
        "\n",
        "def get_int(b):   # CONVERTS 4 BYTES TO A INT\n",
        "    return int(codecs.encode(b, 'hex'), 16)\n",
        "\n",
        "data_dict = {}\n",
        "for file in files:\n",
        "    if file.endswith('ubyte'):  # FOR ALL 'ubyte' FILES\n",
        "        print('Reading ',file)\n",
        "        with open (datapath+file,'rb') as f:\n",
        "            data = f.read()\n",
        "            type = get_int(data[:4])   # 0-3: THE MAGIC NUMBER TO WHETHER IMAGE OR LABEL\n",
        "            length = get_int(data[4:8])  # 4-7: LENGTH OF THE ARRAY  (DIMENSION 0)\n",
        "            if (type == 2051):\n",
        "                category = 'images'\n",
        "                num_rows = get_int(data[8:12])  # NUMBER OF ROWS  (DIMENSION 1)\n",
        "                num_cols = get_int(data[12:16])  # NUMBER OF COLUMNS  (DIMENSION 2)\n",
        "                parsed = numpy.frombuffer(data,dtype = numpy.uint8, offset = 16)  # READ THE PIXEL VALUES AS INTEGERS\n",
        "                parsed = parsed.reshape(length,num_rows,num_cols)  # RESHAPE THE ARRAY AS [NO_OF_SAMPLES x HEIGHT x WIDTH]           \n",
        "            elif(type == 2049):\n",
        "                category = 'labels'\n",
        "                parsed = numpy.frombuffer(data, dtype=numpy.uint8, offset=8) # READ THE LABEL VALUES AS INTEGERS\n",
        "                parsed = parsed.reshape(length)  # RESHAPE THE ARRAY AS [NO_OF_SAMPLES]                           \n",
        "            if (length==10000):\n",
        "                set = 'test'\n",
        "            elif (length==60000):\n",
        "                set = 'train'\n",
        "            data_dict[set+'_'+category] = parsed  # SAVE THE NUMPY ARRAY TO A CORRESPONDING KEY"
      ],
      "metadata": {
        "colab": {
          "base_uri": "https://localhost:8080/"
        },
        "id": "xodF5tW1u0L_",
        "outputId": "d9948067-dbc8-4643-e4d7-3f749a0785b9"
      },
      "execution_count": null,
      "outputs": [
        {
          "output_type": "stream",
          "name": "stdout",
          "text": [
            "Reading  train-images-idx3-ubyte\n",
            "Reading  t10k-labels-idx1-ubyte\n",
            "Reading  t10k-images-idx3-ubyte\n",
            "Reading  train-labels-idx1-ubyte\n"
          ]
        }
      ]
    },
    {
      "cell_type": "code",
      "source": [
        "dC0 = []\n",
        "dC1 = []\n",
        "dC2 = []\n",
        "dC3 = []\n",
        "dC4 = []\n",
        "dC5 = []\n",
        "dC6 = []\n",
        "dC7 = []\n",
        "dC8 = []\n",
        "dC9 = []\n",
        "\n",
        "dyC0 = []\n",
        "dyC1 = []\n",
        "dyC2 = []\n",
        "dyC3 = []\n",
        "dyC4 = []\n",
        "dyC5 = []\n",
        "dyC6 = []\n",
        "dyC7 = []\n",
        "dyC8 = []\n",
        "dyC9 = []\n",
        "\n",
        "for i in range(60000):\n",
        "  if(data_dict['train_labels'][i] == 0): dC0.append(data_dict['train_images'][i])\n",
        "  if(data_dict['train_labels'][i] == 1): dC1.append(data_dict['train_images'][i])\n",
        "  if(data_dict['train_labels'][i] == 2): dC2.append(data_dict['train_images'][i])\n",
        "  if(data_dict['train_labels'][i] == 3): dC3.append(data_dict['train_images'][i])\n",
        "  if(data_dict['train_labels'][i] == 4): dC4.append(data_dict['train_images'][i])\n",
        "  if(data_dict['train_labels'][i] == 5): dC5.append(data_dict['train_images'][i])\n",
        "  if(data_dict['train_labels'][i] == 6): dC6.append(data_dict['train_images'][i])\n",
        "  if(data_dict['train_labels'][i] == 7): dC7.append(data_dict['train_images'][i])\n",
        "  if(data_dict['train_labels'][i] == 8): dC8.append(data_dict['train_images'][i])\n",
        "  if(data_dict['train_labels'][i] == 9): dC9.append(data_dict['train_images'][i])\n",
        "\n",
        "dC0 = np.transpose(np.array(dC0).reshape(len(dC0), 784))\n",
        "dC1 = np.transpose(np.array(dC1).reshape(len(dC1), 784))\n",
        "dC2 = np.transpose(np.array(dC2).reshape(len(dC2), 784))\n",
        "dC3 = np.transpose(np.array(dC3).reshape(len(dC3), 784))\n",
        "dC4 = np.transpose(np.array(dC4).reshape(len(dC4), 784))\n",
        "dC5 = np.transpose(np.array(dC5).reshape(len(dC5), 784))\n",
        "dC6 = np.transpose(np.array(dC6).reshape(len(dC6), 784))\n",
        "dC7 = np.transpose(np.array(dC7).reshape(len(dC7), 784))\n",
        "dC8 = np.transpose(np.array(dC8).reshape(len(dC8), 784))\n",
        "dC9 = np.transpose(np.array(dC9).reshape(len(dC9), 784))\n",
        "\n",
        "\n",
        "for i in data_dict['train_labels']:\n",
        "  if(i==0): dyC0.append(i)\n",
        "  if(i==1): dyC1.append(i)\n",
        "  if(i==2): dyC2.append(i)\n",
        "  if(i==3): dyC3.append(i)\n",
        "  if(i==4): dyC4.append(i)\n",
        "  if(i==5): dyC5.append(i)\n",
        "  if(i==6): dyC6.append(i)\n",
        "  if(i==7): dyC7.append(i)\n",
        "  if(i==8): dyC8.append(i)\n",
        "  if(i==9): dyC9.append(i)\n",
        "\n",
        "Y_train = np.array(dyC0 + dyC1 + dyC2 + dyC3 + dyC4 + dyC5 + dyC6 + dyC7 + dyC8 + dyC9)"
      ],
      "metadata": {
        "id": "1Wkc45JHv5vw"
      },
      "execution_count": null,
      "outputs": []
    },
    {
      "cell_type": "code",
      "source": [
        "X_train = np.concatenate((dC0, dC1, dC2, dC3, dC4, dC5, dC6, dC7, dC8, dC9), axis=1)\n",
        "\n",
        "X_test = np.transpose(data_dict['test_images'].reshape(len(data_dict['test_images']), 784))\n",
        "Y_test = data_dict['test_labels']"
      ],
      "metadata": {
        "id": "ZkWy1tbNv5hk"
      },
      "execution_count": null,
      "outputs": []
    },
    {
      "cell_type": "code",
      "source": [
        "u0 = dC0.mean(axis=1)\n",
        "u1 = dC1.mean(axis=1)\n",
        "u2 = dC2.mean(axis=1)\n",
        "u3 = dC3.mean(axis=1)\n",
        "u4 = dC4.mean(axis=1)\n",
        "u5 = dC5.mean(axis=1)\n",
        "u6 = dC6.mean(axis=1)\n",
        "u7 = dC7.mean(axis=1)\n",
        "u8 = dC8.mean(axis=1)\n",
        "u9 = dC9.mean(axis=1)\n"
      ],
      "metadata": {
        "id": "x4parR8XwBi_"
      },
      "execution_count": null,
      "outputs": []
    },
    {
      "cell_type": "code",
      "source": [
        "S0 = np.matmul(np.transpose(np.transpose(dC0)-u0), np.transpose(np.transpose(np.transpose(dC0)-u0)))\n",
        "S1 = np.matmul(np.transpose(np.transpose(dC1)-u1), np.transpose(np.transpose(np.transpose(dC1)-u1)))\n",
        "S2 = np.matmul(np.transpose(np.transpose(dC2)-u2), np.transpose(np.transpose(np.transpose(dC2)-u2)))\n",
        "S3 = np.matmul(np.transpose(np.transpose(dC3)-u3), np.transpose(np.transpose(np.transpose(dC3)-u3)))\n",
        "S4 = np.matmul(np.transpose(np.transpose(dC4)-u4), np.transpose(np.transpose(np.transpose(dC4)-u4)))\n",
        "S5 = np.matmul(np.transpose(np.transpose(dC5)-u5), np.transpose(np.transpose(np.transpose(dC5)-u5)))\n",
        "S6 = np.matmul(np.transpose(np.transpose(dC6)-u6), np.transpose(np.transpose(np.transpose(dC6)-u6)))\n",
        "S7 = np.matmul(np.transpose(np.transpose(dC7)-u7), np.transpose(np.transpose(np.transpose(dC7)-u7)))\n",
        "S8 = np.matmul(np.transpose(np.transpose(dC8)-u8), np.transpose(np.transpose(np.transpose(dC8)-u8)))\n",
        "S9 = np.matmul(np.transpose(np.transpose(dC9)-u9), np.transpose(np.transpose(np.transpose(dC9)-u9)))\n"
      ],
      "metadata": {
        "id": "lyu5-5Z_wDWf"
      },
      "execution_count": null,
      "outputs": []
    },
    {
      "cell_type": "code",
      "source": [
        "Sw = S0 + S1 + S2 + S3 + S4 +  S5 + S6 + S7 + S8 + S9"
      ],
      "metadata": {
        "id": "z_jA9I1LwFAN"
      },
      "execution_count": null,
      "outputs": []
    },
    {
      "cell_type": "code",
      "source": [
        "ux = X_train.mean(axis=1)"
      ],
      "metadata": {
        "id": "TWPcmrcPwO5V"
      },
      "execution_count": null,
      "outputs": []
    },
    {
      "cell_type": "code",
      "source": [
        "St = np.matmul(np.transpose(np.transpose(X_train)-ux), np.transpose(np.transpose(np.transpose(X_train)-ux)))\n"
      ],
      "metadata": {
        "id": "7wb-w4K3wGnm"
      },
      "execution_count": null,
      "outputs": []
    },
    {
      "cell_type": "code",
      "source": [
        "Sb = St - Sw\n"
      ],
      "metadata": {
        "id": "XO_qNXTFwIIl"
      },
      "execution_count": null,
      "outputs": []
    },
    {
      "cell_type": "code",
      "source": [
        "mat = np.matmul(np.linalg.inv(Sw), Sb)"
      ],
      "metadata": {
        "id": "4ABnG3kgwnrG"
      },
      "execution_count": null,
      "outputs": []
    },
    {
      "cell_type": "code",
      "source": [
        "eigenValues, eigenV = la.eig(mat)"
      ],
      "metadata": {
        "id": "rbjddUPHwpRW"
      },
      "execution_count": null,
      "outputs": []
    },
    {
      "cell_type": "code",
      "source": [
        "eigenValues = eigenValues.real\n",
        "eigenV = eigenV.real  # As ASK FROM THE TA DEFINATELY WHAT SHOULD HAPPEN  HERE"
      ],
      "metadata": {
        "id": "JoOAyUoB15QK"
      },
      "execution_count": null,
      "outputs": []
    },
    {
      "cell_type": "code",
      "source": [
        "eigenV"
      ],
      "metadata": {
        "colab": {
          "base_uri": "https://localhost:8080/"
        },
        "id": "9acdBBNXKiq5",
        "outputId": "04171fd6-e2c2-45f9-ed01-2001f456d28e"
      },
      "execution_count": null,
      "outputs": [
        {
          "output_type": "execute_result",
          "data": {
            "text/plain": [
              "array([[ 6.55559977e-01,  1.67691982e-01, -3.99085663e-01, ...,\n",
              "         1.37865869e-01, -9.59429809e-01,  9.38817747e-01],\n",
              "       [-5.65665408e-01,  1.85621577e-02,  5.62781442e-01, ...,\n",
              "         5.63005794e-01,  8.03712267e-02, -1.43356040e-01],\n",
              "       [ 2.72489559e-01, -1.54852207e-01, -4.41668793e-01, ...,\n",
              "         1.23907422e-01, -1.09798533e-01,  1.07590661e-01],\n",
              "       ...,\n",
              "       [-1.11215905e-05, -1.48502539e-02, -1.03023044e-02, ...,\n",
              "         2.86328547e-03,  2.47206412e-03, -6.71295678e-03],\n",
              "       [-4.30188826e-03,  2.65469778e-02, -4.89137042e-03, ...,\n",
              "         2.51238046e-02, -5.19321495e-03,  4.11713789e-03],\n",
              "       [-1.30269384e-02, -3.22714028e-02, -6.02883507e-03, ...,\n",
              "        -3.83229448e-02,  5.19920128e-02,  5.04888266e-03]])"
            ]
          },
          "metadata": {},
          "execution_count": 17
        }
      ]
    },
    {
      "cell_type": "code",
      "source": [
        "idx = eigenValues.argsort()[::-1]\n",
        "eigenValues = eigenValues[idx]\n",
        "eigenV = eigenV[:,idx]\n"
      ],
      "metadata": {
        "id": "h3WM9oWxw7nW"
      },
      "execution_count": null,
      "outputs": []
    },
    {
      "cell_type": "code",
      "source": [
        "W = np.transpose(np.transpose(eigenV)[:][0:9])"
      ],
      "metadata": {
        "id": "Zqi0EfbY2ITY"
      },
      "execution_count": null,
      "outputs": []
    },
    {
      "cell_type": "code",
      "source": [
        "Y_pC0 = np.matmul(np.transpose(W), dC0)\n",
        "Y_pC1 = np.matmul(np.transpose(W), dC1)\n",
        "Y_pC2 = np.matmul(np.transpose(W), dC2)\n",
        "Y_pC3 = np.matmul(np.transpose(W), dC3)\n",
        "Y_pC4 = np.matmul(np.transpose(W), dC4)\n",
        "Y_pC5 = np.matmul(np.transpose(W), dC5)\n",
        "Y_pC6 = np.matmul(np.transpose(W), dC6)\n",
        "Y_pC7 = np.matmul(np.transpose(W), dC7)\n",
        "Y_pC8 = np.matmul(np.transpose(W), dC8)\n",
        "Y_pC9 = np.matmul(np.transpose(W), dC9)\n"
      ],
      "metadata": {
        "id": "rzAPGOkB4eB3"
      },
      "execution_count": null,
      "outputs": []
    },
    {
      "cell_type": "code",
      "source": [
        "Y_pt = np.concatenate((Y_pC0, Y_pC1, Y_pC2, Y_pC3, Y_pC4, Y_pC5, Y_pC6, Y_pC7, Y_pC8, Y_pC9), axis = 1)"
      ],
      "metadata": {
        "id": "F-qsK0Ot5g0g"
      },
      "execution_count": null,
      "outputs": []
    },
    {
      "cell_type": "code",
      "source": [
        "Y_ptt = np.matmul(np.transpose(W), X_test)"
      ],
      "metadata": {
        "id": "4pzKpWHmx35N"
      },
      "execution_count": null,
      "outputs": []
    },
    {
      "cell_type": "code",
      "source": [
        "from sklearn.discriminant_analysis import LinearDiscriminantAnalysis as LDA\n",
        "from sklearn.metrics import accuracy_score"
      ],
      "metadata": {
        "id": "ODzyP2no6ld3"
      },
      "execution_count": null,
      "outputs": []
    },
    {
      "cell_type": "code",
      "source": [
        "lda = LDA()\n",
        "lda.fit(np.transpose(Y_pt), Y_train)"
      ],
      "metadata": {
        "colab": {
          "base_uri": "https://localhost:8080/"
        },
        "id": "09FVHM7yABKm",
        "outputId": "06d9ac87-98fb-47d4-dda5-43512b8ba21b"
      },
      "execution_count": null,
      "outputs": [
        {
          "output_type": "execute_result",
          "data": {
            "text/plain": [
              "LinearDiscriminantAnalysis()"
            ]
          },
          "metadata": {},
          "execution_count": 24
        }
      ]
    },
    {
      "cell_type": "code",
      "source": [
        "Y_pred = lda.predict(np.transpose(Y_ptt))\n",
        "print(\"accuracy:\", accuracy_score(Y_test, Y_pred))"
      ],
      "metadata": {
        "colab": {
          "base_uri": "https://localhost:8080/"
        },
        "id": "kss8WSSACrqu",
        "outputId": "afaaec4f-43d5-4589-a7c8-4f13f97169f2"
      },
      "execution_count": null,
      "outputs": [
        {
          "output_type": "stream",
          "name": "stdout",
          "text": [
            "accuracy: 0.8151\n"
          ]
        }
      ]
    },
    {
      "cell_type": "code",
      "source": [
        "print(\"Class1 accuracy:\", accuracy_score(Y_test[0:1000], Y_pred[0:1000]))\n",
        "print(\"Class2 accuracy:\", accuracy_score(Y_test[1000:2000], Y_pred[1000:2000]))\n",
        "print(\"Class3 accuracy:\", accuracy_score(Y_test[2000:3000], Y_pred[2000:3000]))\n",
        "print(\"Class4 accuracy:\", accuracy_score(Y_test[3000:4000], Y_pred[3000:4000]))\n",
        "print(\"Class5 accuracy:\", accuracy_score(Y_test[4000:5000], Y_pred[4000:5000]))\n",
        "print(\"Class6 accuracy:\", accuracy_score(Y_test[5000:6000], Y_pred[5000:6000]))\n",
        "print(\"Class7 accuracy:\", accuracy_score(Y_test[6000:7000], Y_pred[6000:7000]))\n",
        "print(\"Class8 accuracy:\", accuracy_score(Y_test[7000:8000], Y_pred[7000:8000]))\n",
        "print(\"Class9 accuracy:\", accuracy_score(Y_test[8000:9000], Y_pred[8000:9000]))\n",
        "print(\"Class10 accuracy:\", accuracy_score(Y_test[9000:10000], Y_pred[9000:10000]))"
      ],
      "metadata": {
        "colab": {
          "base_uri": "https://localhost:8080/"
        },
        "id": "X3lh7My1C112",
        "outputId": "5b5cb177-0d1c-42c1-98e6-c43da66074a6"
      },
      "execution_count": null,
      "outputs": [
        {
          "output_type": "stream",
          "name": "stdout",
          "text": [
            "Class1 accuracy: 0.816\n",
            "Class2 accuracy: 0.839\n",
            "Class3 accuracy: 0.811\n",
            "Class4 accuracy: 0.792\n",
            "Class5 accuracy: 0.826\n",
            "Class6 accuracy: 0.8\n",
            "Class7 accuracy: 0.81\n",
            "Class8 accuracy: 0.823\n",
            "Class9 accuracy: 0.811\n",
            "Class10 accuracy: 0.823\n"
          ]
        }
      ]
    }
  ]
}