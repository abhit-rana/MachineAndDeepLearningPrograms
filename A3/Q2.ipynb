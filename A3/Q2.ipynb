{
  "nbformat": 4,
  "nbformat_minor": 0,
  "metadata": {
    "colab": {
      "name": "Q2",
      "provenance": []
    },
    "kernelspec": {
      "name": "python3",
      "display_name": "Python 3"
    },
    "language_info": {
      "name": "python"
    }
  },
  "cells": [
    {
      "cell_type": "code",
      "execution_count": 4,
      "metadata": {
        "id": "e8sQdG6Xwtk9"
      },
      "outputs": [],
      "source": [
        "from sklearn.decomposition import PCA\n",
        "import os,codecs,numpy\n",
        "import matplotlib"
      ]
    },
    {
      "cell_type": "code",
      "source": [
        "from google.colab import drive\n",
        "drive.mount('/content/drive')"
      ],
      "metadata": {
        "colab": {
          "base_uri": "https://localhost:8080/"
        },
        "id": "Ob_IQHSg0V-S",
        "outputId": "4cc3c166-eb82-4a9c-f225-af94e17ad3d6"
      },
      "execution_count": 10,
      "outputs": [
        {
          "output_type": "stream",
          "name": "stdout",
          "text": [
            "Mounted at /content/drive\n"
          ]
        }
      ]
    },
    {
      "cell_type": "code",
      "source": [
        "# PROVIDE YOUR DIRECTORY WITH THE EXTRACTED FILES HERE\n",
        "datapath = '/content/drive/MyDrive/Colab Notebooks/SML/SML_A3/mnist/'\n",
        "\n",
        "files = os.listdir(datapath)\n",
        "\n",
        "def get_int(b):   # CONVERTS 4 BYTES TO A INT\n",
        "    return int(codecs.encode(b, 'hex'), 16)\n",
        "\n",
        "data_dict = {}\n",
        "for file in files:\n",
        "    if file.endswith('ubyte'):  # FOR ALL 'ubyte' FILES\n",
        "        print('Reading ',file)\n",
        "        with open (datapath+file,'rb') as f:\n",
        "            data = f.read()\n",
        "            type = get_int(data[:4])   # 0-3: THE MAGIC NUMBER TO WHETHER IMAGE OR LABEL\n",
        "            length = get_int(data[4:8])  # 4-7: LENGTH OF THE ARRAY  (DIMENSION 0)\n",
        "            if (type == 2051):\n",
        "                category = 'images'\n",
        "                num_rows = get_int(data[8:12])  # NUMBER OF ROWS  (DIMENSION 1)\n",
        "                num_cols = get_int(data[12:16])  # NUMBER OF COLUMNS  (DIMENSION 2)\n",
        "                parsed = numpy.frombuffer(data,dtype = numpy.uint8, offset = 16)  # READ THE PIXEL VALUES AS INTEGERS\n",
        "                parsed = parsed.reshape(length,num_rows,num_cols)  # RESHAPE THE ARRAY AS [NO_OF_SAMPLES x HEIGHT x WIDTH]           \n",
        "            elif(type == 2049):\n",
        "                category = 'labels'\n",
        "                parsed = numpy.frombuffer(data, dtype=numpy.uint8, offset=8) # READ THE LABEL VALUES AS INTEGERS\n",
        "                parsed = parsed.reshape(length)  # RESHAPE THE ARRAY AS [NO_OF_SAMPLES]                           \n",
        "            if (length==10000):\n",
        "                set = 'test'\n",
        "            elif (length==60000):\n",
        "                set = 'train'\n",
        "            data_dict[set+'_'+category] = parsed  # SAVE THE NUMPY ARRAY TO A CORRESPONDING KEY     "
      ],
      "metadata": {
        "colab": {
          "base_uri": "https://localhost:8080/"
        },
        "id": "hjyJ2ez1w0Qg",
        "outputId": "2658880c-cb6e-4d9c-b2a9-7949401892d4"
      },
      "execution_count": 11,
      "outputs": [
        {
          "output_type": "stream",
          "name": "stdout",
          "text": [
            "Reading  train-images.idx3-ubyte\n",
            "Reading  train-labels.idx1-ubyte\n",
            "Reading  t10k-images.idx3-ubyte\n",
            "Reading  t10k-labels.idx1-ubyte\n"
          ]
        }
      ]
    },
    {
      "cell_type": "code",
      "source": [
        "# this data is of the form 60000, 28, 28\n",
        "\n",
        "X_train = data_dict['train_images']\n",
        "Y_train = data_dict['train_labels']\n",
        "\n",
        "X_test = data_dict['test_images']\n",
        "Y_test = data_dict['test_labels']\n"
      ],
      "metadata": {
        "id": "m6zayj6rw3lZ"
      },
      "execution_count": 12,
      "outputs": []
    },
    {
      "cell_type": "code",
      "source": [
        "X_train = X_train.reshape(60000, 784)\n",
        "\n",
        "X_test = X_test.reshape(10000, 784)"
      ],
      "metadata": {
        "id": "_lkb-J1Gw6BA"
      },
      "execution_count": 13,
      "outputs": []
    },
    {
      "cell_type": "code",
      "source": [
        "from sklearn.discriminant_analysis import LinearDiscriminantAnalysis as LDA\n",
        "from sklearn.metrics import accuracy_score"
      ],
      "metadata": {
        "id": "YknLtSNr0t8e"
      },
      "execution_count": 17,
      "outputs": []
    },
    {
      "cell_type": "code",
      "source": [
        "# performing the experiment 1\n",
        "\n",
        "pca1 = PCA(n_components=15)\n",
        "X_train_r = pca1.fit_transform(X_train)\n",
        "X_test_r = pca1.transform(X_test)\n",
        "\n",
        "lda1 = LDA()\n",
        "lda1.fit(X_train_r, Y_train)\n",
        "Y_pred = lda1.predict(X_test_r)\n",
        "acc1 = accuracy_score(Y_test, Y_pred)\n",
        "print(\"accuracy in the experiment1:\", acc1)"
      ],
      "metadata": {
        "colab": {
          "base_uri": "https://localhost:8080/"
        },
        "id": "lHJEAZ8tw8JR",
        "outputId": "2fee907b-cada-4c5d-e083-2623fccdd79a"
      },
      "execution_count": 18,
      "outputs": [
        {
          "output_type": "stream",
          "name": "stdout",
          "text": [
            "accuracy in the experiment1: 0.8045\n"
          ]
        }
      ]
    },
    {
      "cell_type": "code",
      "source": [
        "# performing the experiment 2\n",
        "\n",
        "pca2 = PCA(n_components=8)\n",
        "X_train_r = pca2.fit_transform(X_train)\n",
        "X_test_r = pca2.transform(X_test)\n",
        "\n",
        "lda2 = LDA()\n",
        "lda2.fit(X_train_r, Y_train)\n",
        "Y_pred = lda2.predict(X_test_r)\n",
        "acc2 = accuracy_score(Y_test, Y_pred)\n",
        "print(\"accuracy in the experiment2:\", acc2)"
      ],
      "metadata": {
        "colab": {
          "base_uri": "https://localhost:8080/"
        },
        "id": "YD-QV8hZw-cS",
        "outputId": "b0f65e69-3a06-405b-e628-4086fc8a117b"
      },
      "execution_count": 19,
      "outputs": [
        {
          "output_type": "stream",
          "name": "stdout",
          "text": [
            "accuracy in the experiment2: 0.7604\n"
          ]
        }
      ]
    },
    {
      "cell_type": "code",
      "source": [
        "# performing the experiment 3\n",
        "\n",
        "pca3 = PCA(n_components=3)\n",
        "X_train_r = pca3.fit_transform(X_train)\n",
        "X_test_r = pca3.transform(X_test)\n",
        "\n",
        "\n",
        "lda3 = LDA()\n",
        "lda3.fit(X_train_r, Y_train)\n",
        "Y_pred = lda3.predict(X_test_r)\n",
        "acc3 = accuracy_score(Y_test, Y_pred)\n",
        "print(\"accuracy in the experiment3:\", acc3)"
      ],
      "metadata": {
        "colab": {
          "base_uri": "https://localhost:8080/"
        },
        "id": "-xaXianqxBVR",
        "outputId": "9f581fc9-7221-4db2-bb42-f4dba7a11f4a"
      },
      "execution_count": 20,
      "outputs": [
        {
          "output_type": "stream",
          "name": "stdout",
          "text": [
            "accuracy in the experiment3: 0.466\n"
          ]
        }
      ]
    },
    {
      "cell_type": "code",
      "source": [
        "import numpy as np\n",
        "import matplotlib.pyplot as plt"
      ],
      "metadata": {
        "id": "7klt4iZh06tH"
      },
      "execution_count": 22,
      "outputs": []
    },
    {
      "cell_type": "code",
      "source": [
        "plt.scatter(np.array([15, 8, 3]), np.array([acc1, acc2, acc3]))\n",
        "plt.xlabel(\"Number of components\")\n",
        "plt.ylabel(\"accuracy\")\n",
        "plt.show()"
      ],
      "metadata": {
        "colab": {
          "base_uri": "https://localhost:8080/",
          "height": 279
        },
        "id": "ZJmj9mZVxD9h",
        "outputId": "dc519d1f-b037-470e-acd5-ce0cef727ba8"
      },
      "execution_count": 23,
      "outputs": [
        {
          "output_type": "display_data",
          "data": {
            "text/plain": [
              "<Figure size 432x288 with 1 Axes>"
            ],
            "image/png": "[encoded data removed]"
          },
          "metadata": {
            "needs_background": "light"
          }
        }
      ]
    },
    {
      "cell_type": "code",
      "source": [
        "# Reaasoning of the Reason of the fall of the accuracy:\n",
        "\"\"\"\n",
        "More accuracy is achieved in the case of 15 components(Experiment 1) because as compared to others, here are the most features retained after projection into components. \n",
        "the more axis, more features will be retained rather than the crushing of features into one or removal of features. Having more features implies having more information about \n",
        "the sample thus would cover different variations in the data and making the model less vulnerable for the encounter of unseen data points. These all things accounts for the\n",
        "more accuracy of the Experiment with more number of dimensions.\n",
        "\"\"\""
      ],
      "metadata": {
        "colab": {
          "base_uri": "https://localhost:8080/",
          "height": 91
        },
        "id": "ChTDW94SxG65",
        "outputId": "453c44b3-7a5d-485a-83f2-1b4b0766bd69"
      },
      "execution_count": 24,
      "outputs": [
        {
          "output_type": "execute_result",
          "data": {
            "text/plain": [
              "'\\nMore accuracy is achieved in the case of 15 components(Experiment 1) because as compared to others, here are the most features retained after projection into components. \\nthe more axis, more features will be retained rather than the crushing of features into one or removal of features. Having more features implies having more information about \\nthe sample thus would cover different variations in the data and making the model less vulnerable for the encounter of unseen data points. These all things accounts for the\\nmore accuracy of the Experiment with more number of dimensions.\\n'"
            ],
            "application/vnd.google.colaboratory.intrinsic+json": {
              "type": "string"
            }
          },
          "metadata": {},
          "execution_count": 24
        }
      ]
    }
  ]
}