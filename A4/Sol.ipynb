{
  "nbformat": 4,
  "nbformat_minor": 0,
  "metadata": {
    "colab": {
      "name": "2020421_AbhitRana_Q2",
      "provenance": [],
      "collapsed_sections": []
    },
    "kernelspec": {
      "name": "python3",
      "display_name": "Python 3"
    },
    "language_info": {
      "name": "python"
    }
  },
  "cells": [
    {
      "cell_type": "markdown",
      "source": [
        "I HAVE NOT CALCULATED THE CLASS WISE ACCURACY YET!!!!"
      ],
      "metadata": {
        "id": "I7rtDIvmMA2E"
      }
    },
    {
      "cell_type": "code",
      "execution_count": 1,
      "metadata": {
        "id": "fsAPFMdI5q2i"
      },
      "outputs": [],
      "source": [
        "import os,codecs"
      ]
    },
    {
      "cell_type": "code",
      "source": [
        "import numpy as np\n",
        "import tensorflow as tf\n",
        "from keras.layers import Dropout\n",
        "from matplotlib import pyplot as plt\n",
        "from keras.callbacks import EarlyStopping\n",
        "from keras.models import Sequential\n",
        "from keras.layers import Dense, Activation\n",
        "from tensorflow.keras.utils import to_categorical\n",
        "from keras import initializers\n",
        "from tensorflow.keras import optimizers\n",
        "from keras.callbacks import ModelCheckpoint\n",
        "from keras.models import load_model\n",
        "from keras.preprocessing.image import ImageDataGenerator\n",
        "from tensorflow.keras.layers import BatchNormalization\n",
        "from array import array"
      ],
      "metadata": {
        "id": "xzYAJ5i-Cc9X"
      },
      "execution_count": 2,
      "outputs": []
    },
    {
      "cell_type": "code",
      "source": [
        "from google.colab import drive\n",
        "drive.mount('/content/drive')"
      ],
      "metadata": {
        "colab": {
          "base_uri": "https://localhost:8080/"
        },
        "id": "YPVhJWFQ68ez",
        "outputId": "f3d038f5-4fff-4c40-b64a-b994c05c9ed4"
      },
      "execution_count": 3,
      "outputs": [
        {
          "output_type": "stream",
          "name": "stdout",
          "text": [
            "Mounted at /content/drive\n"
          ]
        }
      ]
    },
    {
      "cell_type": "code",
      "source": [
        "# PROVIDE YOUR DIRECTORY WITH THE EXTRACTED FILES HERE\n",
        "datapath = '/content/drive/MyDrive/Colab Notebooks/SML/SML_A4/mnist/'\n",
        "\n",
        "files = os.listdir(datapath)\n",
        "\n",
        "def get_int(b):   # CONVERTS 4 BYTES TO A INT\n",
        "    return int(codecs.encode(b, 'hex'), 16)\n",
        "\n",
        "data_dict = {}\n",
        "for file in files:\n",
        "    if file.endswith('ubyte'):  # FOR ALL 'ubyte' FILES\n",
        "        print('Reading ',file)\n",
        "        with open (datapath+file,'rb') as f:\n",
        "            data = f.read()\n",
        "            type = get_int(data[:4])   # 0-3: THE MAGIC NUMBER TO WHETHER IMAGE OR LABEL\n",
        "            length = get_int(data[4:8])  # 4-7: LENGTH OF THE ARRAY  (DIMENSION 0)\n",
        "            if (type == 2051):\n",
        "                category = 'images'\n",
        "                num_rows = get_int(data[8:12])  # NUMBER OF ROWS  (DIMENSION 1)\n",
        "                num_cols = get_int(data[12:16])  # NUMBER OF COLUMNS  (DIMENSION 2)\n",
        "                parsed = np.frombuffer(data,dtype = np.uint8, offset = 16)  # READ THE PIXEL VALUES AS INTEGERS\n",
        "                parsed = parsed.reshape(length,num_rows,num_cols)  # RESHAPE THE ARRAY AS [NO_OF_SAMPLES x HEIGHT x WIDTH]           \n",
        "            elif(type == 2049):\n",
        "                category = 'labels'\n",
        "                parsed = np.frombuffer(data, dtype=np.uint8, offset=8) # READ THE LABEL VALUES AS INTEGERS\n",
        "                parsed = parsed.reshape(length)  # RESHAPE THE ARRAY AS [NO_OF_SAMPLES]                           \n",
        "            if (length==10000):\n",
        "                set = 'test'\n",
        "            elif (length==60000):\n",
        "                set = 'train'\n",
        "            data_dict[set+'_'+category] = parsed  # SAVE THE NUMPY ARRAY TO A CORRESPONDING KEY"
      ],
      "metadata": {
        "colab": {
          "base_uri": "https://localhost:8080/"
        },
        "id": "vgecwh4L6-aS",
        "outputId": "be44e668-ab99-4174-ac28-2fcf7799dd4c"
      },
      "execution_count": 4,
      "outputs": [
        {
          "output_type": "stream",
          "name": "stdout",
          "text": [
            "Reading  train-images.idx3-ubyte\n",
            "Reading  train-labels.idx1-ubyte\n",
            "Reading  t10k-images.idx3-ubyte\n",
            "Reading  t10k-labels.idx1-ubyte\n"
          ]
        }
      ]
    },
    {
      "cell_type": "markdown",
      "source": [
        "data is being used as: numberOfSamples x dimension"
      ],
      "metadata": {
        "id": "YaK6MqkpEzAn"
      }
    },
    {
      "cell_type": "code",
      "source": [
        "train_images = data_dict['train_images'].reshape((-1, 784))\n",
        "test_images = data_dict['test_images'].reshape((-1, 784))\n",
        "train_labels = data_dict['train_labels']\n",
        "test_labels = data_dict['test_labels']\n",
        "\n",
        "#making the validation set to be used in the training of the model\n",
        "v_images = test_images[0:600,:]\n",
        "v_labels = test_labels[0:600]\n",
        "test_images = test_images[600:,:]\n",
        "test_labels = test_labels[600:]"
      ],
      "metadata": {
        "id": "-RmFHrT3Ak4U"
      },
      "execution_count": 5,
      "outputs": []
    },
    {
      "cell_type": "code",
      "source": [
        "v_images.shape\n",
        "test_images.shape"
      ],
      "metadata": {
        "colab": {
          "base_uri": "https://localhost:8080/"
        },
        "id": "A3LIh9ogV9b_",
        "outputId": "8949ee38-d82f-4d86-de06-bdb07f4db64f"
      },
      "execution_count": 6,
      "outputs": [
        {
          "output_type": "execute_result",
          "data": {
            "text/plain": [
              "(9400, 784)"
            ]
          },
          "metadata": {},
          "execution_count": 6
        }
      ]
    },
    {
      "cell_type": "code",
      "source": [
        "\n",
        "# building the model\n",
        "\n",
        "model = Sequential()\n",
        "\n",
        "#adding the input and hidden layer\n",
        "model.add(Dense(64, input_dim=784, trainable=True, activation='relu', use_bias=True,\n",
        "                kernel_initializer=initializers.HeNormal(seed=None)))\n",
        "\n",
        "#adding the dropout layer\n",
        "model.add(Dropout(0.5))\n",
        "\n",
        "model.add(Dense(64, use_bias=True))\n",
        "model.add(BatchNormalization())\n",
        "model.add(Activation(\"relu\"))\n",
        "\n",
        "#output layer\n",
        "model.add(Dense(10, trainable=True, activation='softmax'))\n",
        "\n",
        "#defining the optimizer\n",
        "sgd = optimizers.SGD(lr=0.1, momentum=0.9)\n",
        "\n",
        "#compiling the model\n",
        "model.compile(\n",
        "    optimizer=sgd,\n",
        "    loss=\"categorical_crossentropy\",\n",
        "    #metrics=['accuracy'],\n",
        "    metrics=[tf.keras.metrics.CategoricalAccuracy()],\n",
        ")\n",
        "\n",
        "model.summary()"
      ],
      "metadata": {
        "id": "Zx0BjqY1ERlG",
        "colab": {
          "base_uri": "https://localhost:8080/"
        },
        "outputId": "2744a28b-12c6-48e3-933b-a91cca426c95"
      },
      "execution_count": 7,
      "outputs": [
        {
          "output_type": "stream",
          "name": "stdout",
          "text": [
            "Model: \"sequential\"\n",
            "_________________________________________________________________\n",
            " Layer (type)                Output Shape              Param #   \n",
            "=================================================================\n",
            " dense (Dense)               (None, 64)                50240     \n",
            "                                                                 \n",
            " dropout (Dropout)           (None, 64)                0         \n",
            "                                                                 \n",
            " dense_1 (Dense)             (None, 64)                4160      \n",
            "                                                                 \n",
            " batch_normalization (BatchN  (None, 64)               256       \n",
            " ormalization)                                                   \n",
            "                                                                 \n",
            " activation (Activation)     (None, 64)                0         \n",
            "                                                                 \n",
            " dense_2 (Dense)             (None, 10)                650       \n",
            "                                                                 \n",
            "=================================================================\n",
            "Total params: 55,306\n",
            "Trainable params: 55,178\n",
            "Non-trainable params: 128\n",
            "_________________________________________________________________\n"
          ]
        },
        {
          "output_type": "stream",
          "name": "stderr",
          "text": [
            "/usr/local/lib/python3.7/dist-packages/keras/optimizer_v2/gradient_descent.py:102: UserWarning: The `lr` argument is deprecated, use `learning_rate` instead.\n",
            "  super(SGD, self).__init__(name, **kwargs)\n"
          ]
        }
      ]
    },
    {
      "cell_type": "code",
      "source": [
        "\n",
        "# I AM NOT DEFINING THE CALLBACKS AT THE MOMENT\n",
        "\n",
        "# es= EarlyStopping(monitor='val_loss', mode='min', verbose=1, patience=5)\n",
        "# mc = ModelCheckpoint('best_model.h5', monitor='val_accuracy', mode='max', verbose=1, save_best_only=True)\n",
        "\n",
        "#training the model\n",
        "\n",
        "history = model.fit(\n",
        "    x=train_images,\n",
        "    y=to_categorical(train_labels),\n",
        "    validation_data=(v_images, to_categorical(v_labels)),\n",
        "    epochs=31,\n",
        "    batch_size=512,\n",
        "    shuffle=True,\n",
        "    # callbacks=[es, mc],\n",
        ")"
      ],
      "metadata": {
        "id": "BNvQlX6-UOIQ"
      },
      "execution_count": null,
      "outputs": []
    },
    {
      "cell_type": "code",
      "source": [
        "xpt = [i for i in range(1, 32)]\n",
        "plt.plot(xpt, history.history['loss'])\n",
        "plt.xlabel('epochNo')\n",
        "plt.ylabel('loss')\n",
        "plt.title('model loss')\n",
        "plt.show()"
      ],
      "metadata": {
        "colab": {
          "base_uri": "https://localhost:8080/",
          "height": 295
        },
        "id": "VvtwH_JrefcV",
        "outputId": "4a659367-5a45-4b45-f291-b4b8b51329cc"
      },
      "execution_count": 10,
      "outputs": [
        {
          "output_type": "display_data",
          "data": {
            "text/plain": [
              "<Figure size 432x288 with 1 Axes>"
            ],
            "image/png": "[encoded data removed]"
          },
          "metadata": {
            "needs_background": "light"
          }
        }
      ]
    },
    {
      "cell_type": "code",
      "source": [
        "# evaluating the model\n",
        "\n",
        "# model_saved = load_model('best_model.h5')\n",
        "result = model.evaluate(\n",
        "    test_images,\n",
        "    to_categorical(test_labels),\n",
        "    return_dict = True,\n",
        ")"
      ],
      "metadata": {
        "colab": {
          "base_uri": "https://localhost:8080/"
        },
        "id": "xb3gJatTXaP4",
        "outputId": "b22db10d-e771-4683-fc8b-c03df8c6855b"
      },
      "execution_count": 11,
      "outputs": [
        {
          "output_type": "stream",
          "name": "stdout",
          "text": [
            "294/294 [==============================] - 0s 1ms/step - loss: 0.1103 - categorical_accuracy: 0.9661\n"
          ]
        }
      ]
    },
    {
      "cell_type": "code",
      "source": [
        "print(\"Overall accuracy:\", result['categorical_accuracy'])"
      ],
      "metadata": {
        "id": "x2tsfqvDmfUA",
        "colab": {
          "base_uri": "https://localhost:8080/"
        },
        "outputId": "c67227aa-3097-4c25-e8fb-ae8eef4b7fa3"
      },
      "execution_count": 12,
      "outputs": [
        {
          "output_type": "stream",
          "name": "stdout",
          "text": [
            "Overall accuracy: 0.9660638570785522\n"
          ]
        }
      ]
    },
    {
      "cell_type": "code",
      "source": [
        "print(model.layers)"
      ],
      "metadata": {
        "id": "qXjjaleGBC_R",
        "colab": {
          "base_uri": "https://localhost:8080/"
        },
        "outputId": "216ad08e-78cc-4cb5-e5eb-f4c7f1e1fc50"
      },
      "execution_count": 13,
      "outputs": [
        {
          "output_type": "stream",
          "name": "stdout",
          "text": [
            "[<keras.layers.core.dense.Dense object at 0x7f113df63350>, <keras.layers.core.dropout.Dropout object at 0x7f10bc784a10>, <keras.layers.core.dense.Dense object at 0x7f10bc784ad0>, <keras.layers.normalization.batch_normalization.BatchNormalization object at 0x7f10b866a7d0>, <keras.layers.core.activation.Activation object at 0x7f10b85f44d0>, <keras.layers.core.dense.Dense object at 0x7f10b85d1310>]\n"
          ]
        }
      ]
    },
    {
      "cell_type": "code",
      "source": [
        "print(model.layers[0])"
      ],
      "metadata": {
        "colab": {
          "base_uri": "https://localhost:8080/"
        },
        "id": "bdUxnFGqSPQ5",
        "outputId": "9f5dc3ef-45aa-4f3e-8fcf-38f59ee9e618"
      },
      "execution_count": 14,
      "outputs": [
        {
          "output_type": "stream",
          "name": "stdout",
          "text": [
            "<keras.layers.core.dense.Dense object at 0x7f113df63350>\n"
          ]
        }
      ]
    }
  ]
}