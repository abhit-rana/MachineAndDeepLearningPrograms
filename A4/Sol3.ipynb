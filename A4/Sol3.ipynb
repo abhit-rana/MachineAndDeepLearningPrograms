{
  "nbformat": 4,
  "nbformat_minor": 0,
  "metadata": {
    "colab": {
      "name": "2020421_AbhitRana_Q3",
      "provenance": []
    },
    "kernelspec": {
      "name": "python3",
      "display_name": "Python 3"
    },
    "language_info": {
      "name": "python"
    }
  },
  "cells": [
    {
      "cell_type": "code",
      "execution_count": null,
      "metadata": {
        "id": "BqwrljhAOD-P"
      },
      "outputs": [],
      "source": [
        "import os,codecs"
      ]
    },
    {
      "cell_type": "code",
      "source": [
        "import numpy as np\n",
        "import tensorflow as tf\n",
        "from keras.layers import Dropout\n",
        "from matplotlib import pyplot as plt\n",
        "from keras.callbacks import EarlyStopping\n",
        "from keras.models import Sequential\n",
        "from keras.layers import Dense, Activation\n",
        "from tensorflow.keras.utils import to_categorical\n",
        "from keras import initializers\n",
        "from tensorflow.keras import optimizers\n",
        "from keras.callbacks import ModelCheckpoint\n",
        "from keras.models import load_model\n",
        "from keras.preprocessing.image import ImageDataGenerator\n",
        "from tensorflow.keras.layers import BatchNormalization\n",
        "from array import array"
      ],
      "metadata": {
        "id": "O7WtpUMIOZbl"
      },
      "execution_count": null,
      "outputs": []
    },
    {
      "cell_type": "code",
      "source": [
        "from google.colab import drive\n",
        "drive.mount('/content/drive')"
      ],
      "metadata": {
        "colab": {
          "base_uri": "https://localhost:8080/"
        },
        "id": "1qaWAoJ_ObrP",
        "outputId": "4bf7254f-f94a-46db-bb54-3d26ceb821d4"
      },
      "execution_count": null,
      "outputs": [
        {
          "output_type": "stream",
          "name": "stdout",
          "text": [
            "Drive already mounted at /content/drive; to attempt to forcibly remount, call drive.mount(\"/content/drive\", force_remount=True).\n"
          ]
        }
      ]
    },
    {
      "cell_type": "code",
      "source": [
        "# PROVIDE YOUR DIRECTORY WITH THE EXTRACTED FILES HERE\n",
        "datapath = '/content/drive/MyDrive/Colab Notebooks/SML/SML_A4/mnist/'\n",
        "\n",
        "files = os.listdir(datapath)\n",
        "\n",
        "def get_int(b):   # CONVERTS 4 BYTES TO A INT\n",
        "    return int(codecs.encode(b, 'hex'), 16)\n",
        "\n",
        "data_dict = {}\n",
        "for file in files:\n",
        "    if file.endswith('ubyte'):  # FOR ALL 'ubyte' FILES\n",
        "        print('Reading ',file)\n",
        "        with open (datapath+file,'rb') as f:\n",
        "            data = f.read()\n",
        "            type = get_int(data[:4])   # 0-3: THE MAGIC NUMBER TO WHETHER IMAGE OR LABEL\n",
        "            length = get_int(data[4:8])  # 4-7: LENGTH OF THE ARRAY  (DIMENSION 0)\n",
        "            if (type == 2051):\n",
        "                category = 'images'\n",
        "                num_rows = get_int(data[8:12])  # NUMBER OF ROWS  (DIMENSION 1)\n",
        "                num_cols = get_int(data[12:16])  # NUMBER OF COLUMNS  (DIMENSION 2)\n",
        "                parsed = np.frombuffer(data,dtype = np.uint8, offset = 16)  # READ THE PIXEL VALUES AS INTEGERS\n",
        "                parsed = parsed.reshape(length,num_rows,num_cols)  # RESHAPE THE ARRAY AS [NO_OF_SAMPLES x HEIGHT x WIDTH]           \n",
        "            elif(type == 2049):\n",
        "                category = 'labels'\n",
        "                parsed = np.frombuffer(data, dtype=np.uint8, offset=8) # READ THE LABEL VALUES AS INTEGERS\n",
        "                parsed = parsed.reshape(length)  # RESHAPE THE ARRAY AS [NO_OF_SAMPLES]                           \n",
        "            if (length==10000):\n",
        "                set = 'test'\n",
        "            elif (length==60000):\n",
        "                set = 'train'\n",
        "            data_dict[set+'_'+category] = parsed  # SAVE THE NUMPY ARRAY TO A CORRESPONDING KEY"
      ],
      "metadata": {
        "id": "HwF03K1mOeDc",
        "colab": {
          "base_uri": "https://localhost:8080/"
        },
        "outputId": "a94bda33-2898-40fa-bd82-e484fdb6abf4"
      },
      "execution_count": null,
      "outputs": [
        {
          "output_type": "stream",
          "name": "stdout",
          "text": [
            "Reading  train-images.idx3-ubyte\n",
            "Reading  train-labels.idx1-ubyte\n",
            "Reading  t10k-images.idx3-ubyte\n",
            "Reading  t10k-labels.idx1-ubyte\n"
          ]
        }
      ]
    },
    {
      "cell_type": "code",
      "source": [
        "import numpy as np\n",
        "import tensorflow as tf\n",
        "from keras.layers import Dropout\n",
        "from matplotlib import pyplot as plt\n",
        "from keras.callbacks import EarlyStopping\n",
        "from keras.models import Sequential\n",
        "from keras.layers import Dense, Activation\n",
        "from tensorflow.keras.utils import to_categorical\n",
        "from keras import initializers\n",
        "from tensorflow.keras import optimizers\n",
        "from keras.callbacks import ModelCheckpoint\n",
        "from keras.models import load_model\n",
        "from keras.preprocessing.image import ImageDataGenerator\n",
        "from tensorflow.keras.layers import BatchNormalization\n",
        "from array import array\n",
        "from keras import layers\n",
        "from keras.layers import Concatenate"
      ],
      "metadata": {
        "id": "dZWRxhXSPjEP"
      },
      "execution_count": null,
      "outputs": []
    },
    {
      "cell_type": "code",
      "source": [
        "train_images = data_dict['train_images'].reshape((-1, 784))\n",
        "test_images = data_dict['test_images'].reshape((-1, 784))\n",
        "train_labels = data_dict['train_labels']\n",
        "test_labels = data_dict['test_labels']"
      ],
      "metadata": {
        "id": "5CH82QoqfXji"
      },
      "execution_count": null,
      "outputs": []
    },
    {
      "cell_type": "markdown",
      "source": [
        "CREATING AUTO ENCODER"
      ],
      "metadata": {
        "id": "ve1qq5wlPYvP"
      }
    },
    {
      "cell_type": "code",
      "source": [
        "modela = Sequential()\n",
        "\n",
        "\n",
        "# adding the input and first hidden layer\n",
        "modela.add(Dense(512, input_dim=784, trainable=True, activation='relu', use_bias=True,\n",
        "                 kernel_initializer=initializers.HeNormal(seed=None)))\n",
        "\n",
        "\n",
        "#adding the latent\n",
        "modela.add(Dense(128, use_bias=True, activation=\"relu\"))\n",
        "#modela.add(BatchNormalization())\n",
        "#modela.add(Activation(\"relu\"))\n",
        "\n",
        "#adding the hidden layer\n",
        "modela.add(Dense(64, use_bias=True, activation=\"relu\"))\n",
        "\n",
        "#adding the hidden layer\n",
        "modela.add(Dense(128, use_bias=True, activation=\"relu\"))\n",
        "\n",
        "#adding the hidden layer\n",
        "modela.add(Dense(512, use_bias=True, activation=\"relu\"))\n",
        "\n",
        "#adding the output layer\n",
        "modela.add(Dense(784, use_bias=True, activation=\"relu\"))\n",
        "\n",
        "adam = optimizers.Adam(lr=0.001, beta_1=0.9, beta_2=0.999, epsilon=1e-8)\n",
        "\n",
        "modela.compile(\n",
        "    optimizer=adam,\n",
        "    loss=\"mean_squared_error\",\n",
        "    metrics=[tf.keras.metrics.CategoricalCrossentropy()],\n",
        ")\n",
        "\n",
        "modela.summary()"
      ],
      "metadata": {
        "id": "cxrB7x9_PcA4"
      },
      "execution_count": null,
      "outputs": []
    },
    {
      "cell_type": "code",
      "source": [
        "history = modela.fit(\n",
        "    train_images,\n",
        "    train_images,\n",
        "    shuffle=True,\n",
        "    epochs=31,\n",
        "    batch_size=512,\n",
        "    # validation_data=(test_images, test_images)\n",
        ")"
      ],
      "metadata": {
        "id": "5vX0sFCLs69S"
      },
      "execution_count": null,
      "outputs": []
    },
    {
      "cell_type": "code",
      "source": [
        "xpt = [i for i in range(1, 32)]\n",
        "plt.plot(xpt, history.history['loss'])\n",
        "plt.xlabel('epochNo')\n",
        "plt.ylabel('loss')\n",
        "plt.title('model loss')\n",
        "plt.show()"
      ],
      "metadata": {
        "id": "thJBvPHBwqqa",
        "outputId": "2be2f61d-4212-4dbb-83eb-428144becb64",
        "colab": {
          "base_uri": "https://localhost:8080/",
          "height": 295
        }
      },
      "execution_count": null,
      "outputs": [
        {
          "output_type": "display_data",
          "data": {
            "text/plain": [
              "<Figure size 432x288 with 1 Axes>"
            ],
            "image/png": "[encoded data removed]"
          },
          "metadata": {
            "needs_background": "light"
          }
        }
      ]
    }
  ]
}