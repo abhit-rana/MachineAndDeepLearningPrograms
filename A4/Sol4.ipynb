{
  "nbformat": 4,
  "nbformat_minor": 0,
  "metadata": {
    "colab": {
      "name": "2020421_AbhitRana_Q4",
      "provenance": []
    },
    "kernelspec": {
      "name": "python3",
      "display_name": "Python 3"
    },
    "language_info": {
      "name": "python"
    }
  },
  "cells": [
    {
      "cell_type": "code",
      "source": [
        "import os\n",
        "import codecs\n",
        "import numpy as np"
      ],
      "metadata": {
        "id": "m7CDtQB9UFXe"
      },
      "execution_count": 1,
      "outputs": []
    },
    {
      "cell_type": "code",
      "execution_count": 2,
      "metadata": {
        "colab": {
          "base_uri": "https://localhost:8080/"
        },
        "id": "ziCi0SESTmAG",
        "outputId": "c7844b99-78d9-4219-e531-10af46e3c65a"
      },
      "outputs": [
        {
          "output_type": "stream",
          "name": "stdout",
          "text": [
            "Mounted at /content/drive\n"
          ]
        }
      ],
      "source": [
        "from google.colab import drive\n",
        "drive.mount('/content/drive')"
      ]
    },
    {
      "cell_type": "code",
      "source": [
        "# PROVIDE YOUR DIRECTORY WITH THE EXTRACTED FILES HERE\n",
        "datapath = '/content/drive/MyDrive/Colab Notebooks/SML/SML_A4/mnist/'\n",
        "\n",
        "files = os.listdir(datapath)\n",
        "\n",
        "def get_int(b):   # CONVERTS 4 BYTES TO A INT\n",
        "    return int(codecs.encode(b, 'hex'), 16)\n",
        "\n",
        "data_dict = {}\n",
        "for file in files:\n",
        "    if file.endswith('ubyte'):  # FOR ALL 'ubyte' FILES\n",
        "        print('Reading ',file)\n",
        "        with open (datapath+file,'rb') as f:\n",
        "            data = f.read()\n",
        "            type = get_int(data[:4])   # 0-3: THE MAGIC NUMBER TO WHETHER IMAGE OR LABEL\n",
        "            length = get_int(data[4:8])  # 4-7: LENGTH OF THE ARRAY  (DIMENSION 0)\n",
        "            if (type == 2051):\n",
        "                category = 'images'\n",
        "                num_rows = get_int(data[8:12])  # NUMBER OF ROWS  (DIMENSION 1)\n",
        "                num_cols = get_int(data[12:16])  # NUMBER OF COLUMNS  (DIMENSION 2)\n",
        "                parsed = np.frombuffer(data,dtype = np.uint8, offset = 16)  # READ THE PIXEL VALUES AS INTEGERS\n",
        "                parsed = parsed.reshape(length,num_rows,num_cols)  # RESHAPE THE ARRAY AS [NO_OF_SAMPLES x HEIGHT x WIDTH]           \n",
        "            elif(type == 2049):\n",
        "                category = 'labels'\n",
        "                parsed = np.frombuffer(data, dtype=np.uint8, offset=8) # READ THE LABEL VALUES AS INTEGERS\n",
        "                parsed = parsed.reshape(length)  # RESHAPE THE ARRAY AS [NO_OF_SAMPLES]                           \n",
        "            if (length==10000):\n",
        "                set = 'test'\n",
        "            elif (length==60000):\n",
        "                set = 'train'\n",
        "            data_dict[set+'_'+category] = parsed  # SAVE THE NUMPY ARRAY TO A CORRESPONDING KEY"
      ],
      "metadata": {
        "colab": {
          "base_uri": "https://localhost:8080/"
        },
        "id": "Aj9Q7Vh0T6o7",
        "outputId": "52de5a20-0c30-493d-e349-bee26dca1654"
      },
      "execution_count": 3,
      "outputs": [
        {
          "output_type": "stream",
          "name": "stdout",
          "text": [
            "Reading  train-images.idx3-ubyte\n",
            "Reading  train-labels.idx1-ubyte\n",
            "Reading  t10k-images.idx3-ubyte\n",
            "Reading  t10k-labels.idx1-ubyte\n"
          ]
        }
      ]
    },
    {
      "cell_type": "code",
      "source": [
        "train_images = data_dict['train_images'].reshape((-1, 784))\n",
        "test_images = data_dict['test_images'].reshape((-1, 784))\n",
        "train_labels = data_dict['train_labels']\n",
        "test_labels = data_dict['test_labels']\n"
      ],
      "metadata": {
        "id": "qbxTgucii3rI"
      },
      "execution_count": 4,
      "outputs": []
    },
    {
      "cell_type": "code",
      "source": [
        "from sklearn.tree import DecisionTreeClassifier\n",
        "from sklearn.model_selection import cross_val_score\n",
        "from sklearn.ensemble import BaggingClassifier"
      ],
      "metadata": {
        "id": "rTT1fZpQUCZl"
      },
      "execution_count": 5,
      "outputs": []
    },
    {
      "cell_type": "code",
      "source": [
        "# scores = cross_val_score(DecisionTreeClassifier(), train_images, train_labels, cv=5)"
      ],
      "metadata": {
        "id": "pN2zTZF_ejZG"
      },
      "execution_count": 6,
      "outputs": []
    },
    {
      "cell_type": "code",
      "source": [
        "# scores.mean()"
      ],
      "metadata": {
        "id": "mdApQiZGiqeZ"
      },
      "execution_count": 7,
      "outputs": []
    },
    {
      "cell_type": "code",
      "source": [
        "modelb = BaggingClassifier(\n",
        "    base_estimator=DecisionTreeClassifier(max_depth = 4, \n",
        "                        max_features='sqrt'),\n",
        "    n_estimators=3,\n",
        "    max_samples=0.8,\n",
        "    random_state=0,\n",
        "    oob_score=True\n",
        ")\n",
        "\n",
        "modelb.fit(train_images, train_labels)"
      ],
      "metadata": {
        "colab": {
          "base_uri": "https://localhost:8080/"
        },
        "id": "MmKhmMoxjqhx",
        "outputId": "8942c499-0468-4bc9-883f-c3d03f6b3290"
      },
      "execution_count": 8,
      "outputs": [
        {
          "output_type": "stream",
          "name": "stderr",
          "text": [
            "/usr/local/lib/python3.7/dist-packages/sklearn/ensemble/_bagging.py:707: UserWarning: Some inputs do not have OOB scores. This probably means too few estimators were used to compute any reliable oob estimates.\n",
            "  \"Some inputs do not have OOB scores. \"\n",
            "/usr/local/lib/python3.7/dist-packages/sklearn/ensemble/_bagging.py:712: RuntimeWarning: invalid value encountered in true_divide\n",
            "  oob_decision_function = predictions / predictions.sum(axis=1)[:, np.newaxis]\n"
          ]
        },
        {
          "output_type": "execute_result",
          "data": {
            "text/plain": [
              "BaggingClassifier(base_estimator=DecisionTreeClassifier(max_depth=4,\n",
              "                                                        max_features='sqrt'),\n",
              "                  max_samples=0.8, n_estimators=3, oob_score=True,\n",
              "                  random_state=0)"
            ]
          },
          "metadata": {},
          "execution_count": 8
        }
      ]
    },
    {
      "cell_type": "code",
      "source": [
        "# waiting for the sir reply if need to set up the vooting theme or not"
      ],
      "metadata": {
        "id": "UorRr9QQtaYV"
      },
      "execution_count": 9,
      "outputs": []
    },
    {
      "cell_type": "code",
      "source": [
        "predicted = np.array([[0 for i in range(10)], [0 for i in range(10)]])"
      ],
      "metadata": {
        "id": "xLbKndLCOkGe"
      },
      "execution_count": 10,
      "outputs": []
    },
    {
      "cell_type": "code",
      "source": [
        "for i in range(len(test_labels)):\n",
        "  out = modelb.predict(np.array([test_images[i]]))[0]\n",
        "  if(test_labels[i] ==0):\n",
        "    predicted[1][0] += 1\n",
        "    if(out==0):\n",
        "      predicted[0][0] += 1\n",
        "  elif (test_labels[i]==1):\n",
        "    predicted[1][1] += 1\n",
        "    if(out==1):\n",
        "      predicted[0][1] += 1\n",
        "  elif (test_labels[i]==2):\n",
        "    predicted[1][2] += 1\n",
        "    if(out==2):\n",
        "      predicted[0][2] += 1\n",
        "  elif (test_labels[i]==3):\n",
        "    predicted[1][3] += 1\n",
        "    if(out==3):\n",
        "      predicted[0][3] += 1\n",
        "  elif (test_labels[i]==4):\n",
        "    predicted[1][4] += 1\n",
        "    if(out==4):\n",
        "      predicted[0][4] += 1\n",
        "  elif (test_labels[i]==5):\n",
        "    predicted[1][5] += 1\n",
        "    if(out==5):\n",
        "      predicted[0][5] += 1\n",
        "  elif (test_labels[i]==6):\n",
        "    predicted[1][6] += 1\n",
        "    if(out==6):\n",
        "      predicted[0][6] += 1\n",
        "  elif (test_labels[i]==7):\n",
        "    predicted[1][7] += 1\n",
        "    if(out==7):\n",
        "      predicted[0][7] += 1\n",
        "  elif (test_labels[i]==8):\n",
        "    predicted[1][8] += 1\n",
        "    if(out==8):\n",
        "      predicted[0][8] += 1\n",
        "  elif (test_labels[i]==9):\n",
        "    predicted[1][9] += 1\n",
        "    if(out==9):\n",
        "      predicted[0][9] += 1"
      ],
      "metadata": {
        "id": "OPl5PCQNzHM4"
      },
      "execution_count": 11,
      "outputs": []
    },
    {
      "cell_type": "code",
      "source": [
        "print(\"Overall Accuracy:\", sum(predicted[0])/len(test_labels))\n",
        "for i in range(10):\n",
        "  print(\"Class\", i, \"Accuracy:\", predicted[0][i]/predicted[1][i])"
      ],
      "metadata": {
        "colab": {
          "base_uri": "https://localhost:8080/"
        },
        "id": "vNSFs2fB2AP3",
        "outputId": "750e08bc-d47a-4106-c217-d156618cce8f"
      },
      "execution_count": 12,
      "outputs": [
        {
          "output_type": "stream",
          "name": "stdout",
          "text": [
            "Overall Accuracy: 0.661\n",
            "Class 0 Accuracy: 0.9122448979591836\n",
            "Class 1 Accuracy: 0.9612334801762115\n",
            "Class 2 Accuracy: 0.5222868217054264\n",
            "Class 3 Accuracy: 0.6801980198019802\n",
            "Class 4 Accuracy: 0.515274949083503\n",
            "Class 5 Accuracy: 0.413677130044843\n",
            "Class 6 Accuracy: 0.7609603340292276\n",
            "Class 7 Accuracy: 0.7461089494163424\n",
            "Class 8 Accuracy: 0.4260780287474333\n",
            "Class 9 Accuracy: 0.6075322101090188\n"
          ]
        }
      ]
    }
  ]
}